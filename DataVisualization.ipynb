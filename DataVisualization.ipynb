{
 "cells": [
  {
   "cell_type": "code",
   "execution_count": 1,
   "id": "b33601b0",
   "metadata": {
    "slideshow": {
     "slide_type": "skip"
    }
   },
   "outputs": [],
   "source": [
    "# Imports\n",
    "import pandas as pd\n",
    "import time\n",
    "import numpy as np\n",
    "%matplotlib inline\n",
    "\n",
    "# Constants\n",
    "CNT = 'count'\n",
    "LAT = 'latitude'\n",
    "LNG = 'longitude'\n",
    "DESC = 'description'\n",
    "DT = 'datetime'\n",
    "ADDR = 'address'\n",
    "TWP = 'town'\n",
    "ZIP = 'zip'\n",
    "TITLE = 'title'\n",
    "MONTH = 'month'\n",
    "DAY = 'day'\n",
    "WEEKDAY = 'weekday'\n",
    "HOUR = 'hour'\n",
    "YEAR = 'year'\n",
    "RSN = 'reason'\n",
    "SVC = 'service'\n",
    "ST = 'station'"
   ]
  },
  {
   "cell_type": "code",
   "execution_count": 2,
   "id": "094b3a78",
   "metadata": {
    "slideshow": {
     "slide_type": "skip"
    }
   },
   "outputs": [],
   "source": [
    "original_df = pd.read_csv('./911.csv')\n",
    "df = original_df"
   ]
  },
  {
   "cell_type": "markdown",
   "id": "3f8043ac",
   "metadata": {
    "slideshow": {
     "slide_type": "slide"
    }
   },
   "source": [
    "# Projeto em Ciência de Dados, Análise e Visualização de Dados 2020PGS2M2\n",
    "\n",
    "## Análise do dataset 911.csv\n",
    "\n",
    "#### Gustavo Yamauchi Caruso"
   ]
  },
  {
   "cell_type": "markdown",
   "id": "1378820e",
   "metadata": {
    "slideshow": {
     "slide_type": "slide"
    }
   },
   "source": [
    "## Agenda\n",
    "\n",
    "### Apresentação do dataset\n",
    "- Contexto \n",
    "- Visão Geral\n",
    "- Transformações\n",
    "\n",
    "### Classificação das variáveis do dataset\n",
    "\n",
    "### Análises\n"
   ]
  },
  {
   "cell_type": "markdown",
   "id": "14e68f43",
   "metadata": {
    "slideshow": {
     "slide_type": "slide"
    }
   },
   "source": [
    "# Apresentação do dataset"
   ]
  },
  {
   "cell_type": "markdown",
   "id": "4abdac14",
   "metadata": {
    "slideshow": {
     "slide_type": "fragment"
    }
   },
   "source": [
    "\n",
    "911 é um número de emergência norte americano. Diferentemente do Brasil, todos os serviços de emergência podem ser acessados diretamente deste único número.\n",
    "\n",
    "Cada linha do dataset 911.csv consiste em um conjunto de informações sobre uma ligação de emergência."
   ]
  },
  {
   "cell_type": "markdown",
   "id": "ddc3c0eb",
   "metadata": {
    "slideshow": {
     "slide_type": "slide"
    }
   },
   "source": [
    "## Visão Geral\n",
    "\n",
    "Foram registrados, para cada uma das **99492** ligações do dataset: "
   ]
  },
  {
   "cell_type": "code",
   "execution_count": 3,
   "id": "69d3d954",
   "metadata": {
    "slideshow": {
     "slide_type": "fragment"
    }
   },
   "outputs": [
    {
     "data": {
      "text/html": [
       "<div>\n",
       "<style scoped>\n",
       "    .dataframe tbody tr th:only-of-type {\n",
       "        vertical-align: middle;\n",
       "    }\n",
       "\n",
       "    .dataframe tbody tr th {\n",
       "        vertical-align: top;\n",
       "    }\n",
       "\n",
       "    .dataframe thead th {\n",
       "        text-align: right;\n",
       "    }\n",
       "</style>\n",
       "<table border=\"1\" class=\"dataframe\">\n",
       "  <thead>\n",
       "    <tr style=\"text-align: right;\">\n",
       "      <th></th>\n",
       "      <th>lat</th>\n",
       "      <th>lng</th>\n",
       "      <th>desc</th>\n",
       "      <th>zip</th>\n",
       "      <th>title</th>\n",
       "      <th>timeStamp</th>\n",
       "      <th>twp</th>\n",
       "      <th>addr</th>\n",
       "      <th>e</th>\n",
       "    </tr>\n",
       "  </thead>\n",
       "  <tbody>\n",
       "    <tr>\n",
       "      <th>0</th>\n",
       "      <td>40.297876</td>\n",
       "      <td>-75.581294</td>\n",
       "      <td>REINDEER CT &amp; DEAD END;  NEW HANOVER; Station ...</td>\n",
       "      <td>19525.0</td>\n",
       "      <td>EMS: BACK PAINS/INJURY</td>\n",
       "      <td>2015-12-10 17:40:00</td>\n",
       "      <td>NEW HANOVER</td>\n",
       "      <td>REINDEER CT &amp; DEAD END</td>\n",
       "      <td>1</td>\n",
       "    </tr>\n",
       "  </tbody>\n",
       "</table>\n",
       "</div>"
      ],
      "text/plain": [
       "         lat        lng                                               desc  \\\n",
       "0  40.297876 -75.581294  REINDEER CT & DEAD END;  NEW HANOVER; Station ...   \n",
       "\n",
       "       zip                   title            timeStamp          twp  \\\n",
       "0  19525.0  EMS: BACK PAINS/INJURY  2015-12-10 17:40:00  NEW HANOVER   \n",
       "\n",
       "                     addr  e  \n",
       "0  REINDEER CT & DEAD END  1  "
      ]
     },
     "execution_count": 3,
     "metadata": {},
     "output_type": "execute_result"
    }
   ],
   "source": [
    "df.head(1)"
   ]
  },
  {
   "cell_type": "markdown",
   "id": "b0d54772",
   "metadata": {
    "slideshow": {
     "slide_type": "slide"
    }
   },
   "source": [
    "- `lat` -> Latitude\n",
    "- `lng` -> Longitude\n",
    "- `desc` -> Descrição\n",
    "- `zip` -> CEP\n",
    "- `title` -> Título\n",
    "- `timeStamp` -> Data e Hora\n",
    "- `twp` -> Cidade\n",
    "- `addr` -> Endereço\n",
    "- `E` -> flag \n",
    "\n",
    "Estas ligações foram feitas entre 10 de Dezembro de 2015 e 24 de Agosto de 2016"
   ]
  },
  {
   "cell_type": "code",
   "execution_count": 4,
   "id": "fa9e7f95",
   "metadata": {
    "scrolled": true,
    "slideshow": {
     "slide_type": "subslide"
    }
   },
   "outputs": [
    {
     "name": "stdout",
     "output_type": "stream",
     "text": [
      "Shape (99492, 9)\n",
      "Colunas Index(['lat', 'lng', 'desc', 'zip', 'title', 'timeStamp', 'twp', 'addr', 'e'], dtype='object')\n",
      "Primeira chamada:  2015-12-10 17:40:00\n",
      "Última chamada:  2016-08-24 11:17:02\n"
     ]
    }
   ],
   "source": [
    "print('Shape', df.shape)\n",
    "print('Colunas', df.columns)\n",
    "print('Primeira chamada: ', df['timeStamp'].min())\n",
    "print('Última chamada: ', df['timeStamp'].max())"
   ]
  },
  {
   "cell_type": "markdown",
   "id": "a0b94602",
   "metadata": {
    "slideshow": {
     "slide_type": "slide"
    }
   },
   "source": [
    "### Valores nulos"
   ]
  },
  {
   "cell_type": "code",
   "execution_count": 5,
   "id": "82917d97",
   "metadata": {
    "slideshow": {
     "slide_type": "fragment"
    }
   },
   "outputs": [
    {
     "data": {
      "text/plain": [
       "lat              0\n",
       "lng              0\n",
       "desc             0\n",
       "zip          12855\n",
       "title            0\n",
       "timeStamp        0\n",
       "twp             43\n",
       "addr           519\n",
       "e                0\n",
       "dtype: int64"
      ]
     },
     "execution_count": 5,
     "metadata": {},
     "output_type": "execute_result"
    }
   ],
   "source": [
    "df.isnull().sum()"
   ]
  },
  {
   "cell_type": "markdown",
   "id": "acd326b3",
   "metadata": {
    "slideshow": {
     "slide_type": "slide"
    }
   },
   "source": [
    "## Transformações\n",
    "\n",
    "A seguir, algumas transformações serão realizadas nas colunas deste dataset. A primeira consistirá em renomear as colunas para o nome completo."
   ]
  },
  {
   "cell_type": "code",
   "execution_count": 6,
   "id": "379c05b8",
   "metadata": {
    "slideshow": {
     "slide_type": "fragment"
    }
   },
   "outputs": [
    {
     "data": {
      "text/html": [
       "<div>\n",
       "<style scoped>\n",
       "    .dataframe tbody tr th:only-of-type {\n",
       "        vertical-align: middle;\n",
       "    }\n",
       "\n",
       "    .dataframe tbody tr th {\n",
       "        vertical-align: top;\n",
       "    }\n",
       "\n",
       "    .dataframe thead th {\n",
       "        text-align: right;\n",
       "    }\n",
       "</style>\n",
       "<table border=\"1\" class=\"dataframe\">\n",
       "  <thead>\n",
       "    <tr style=\"text-align: right;\">\n",
       "      <th></th>\n",
       "      <th>lat</th>\n",
       "      <th>lng</th>\n",
       "      <th>desc</th>\n",
       "      <th>zip</th>\n",
       "      <th>title</th>\n",
       "      <th>timeStamp</th>\n",
       "      <th>twp</th>\n",
       "      <th>addr</th>\n",
       "      <th>e</th>\n",
       "    </tr>\n",
       "  </thead>\n",
       "  <tbody>\n",
       "    <tr>\n",
       "      <th>0</th>\n",
       "      <td>40.297876</td>\n",
       "      <td>-75.581294</td>\n",
       "      <td>REINDEER CT &amp; DEAD END;  NEW HANOVER; Station ...</td>\n",
       "      <td>19525.0</td>\n",
       "      <td>EMS: BACK PAINS/INJURY</td>\n",
       "      <td>2015-12-10 17:40:00</td>\n",
       "      <td>NEW HANOVER</td>\n",
       "      <td>REINDEER CT &amp; DEAD END</td>\n",
       "      <td>1</td>\n",
       "    </tr>\n",
       "  </tbody>\n",
       "</table>\n",
       "</div>"
      ],
      "text/plain": [
       "         lat        lng                                               desc  \\\n",
       "0  40.297876 -75.581294  REINDEER CT & DEAD END;  NEW HANOVER; Station ...   \n",
       "\n",
       "       zip                   title            timeStamp          twp  \\\n",
       "0  19525.0  EMS: BACK PAINS/INJURY  2015-12-10 17:40:00  NEW HANOVER   \n",
       "\n",
       "                     addr  e  \n",
       "0  REINDEER CT & DEAD END  1  "
      ]
     },
     "execution_count": 6,
     "metadata": {},
     "output_type": "execute_result"
    }
   ],
   "source": [
    "df.head(1)"
   ]
  },
  {
   "cell_type": "code",
   "execution_count": 7,
   "id": "60820f17",
   "metadata": {
    "slideshow": {
     "slide_type": "subslide"
    }
   },
   "outputs": [],
   "source": [
    "df = df.rename(\n",
    "    columns={\n",
    "        \"lat\": LAT, \n",
    "        \"lng\": LNG, \n",
    "        \"desc\": DESC, \n",
    "        \"addr\": ADDR,\n",
    "        \"timeStamp\": DT,\n",
    "        \"twp\": TWP,\n",
    "        \"e\": CNT\n",
    "    })"
   ]
  },
  {
   "cell_type": "markdown",
   "id": "c893ae62",
   "metadata": {
    "slideshow": {
     "slide_type": "slide"
    }
   },
   "source": [
    "### `Datetime`\n",
    "A coluna `datetime` está carregando todas as informações de data e hora. Ao quebrá-la em ano, mês, dia, e hora, análises mais interessantes são possibilitadas."
   ]
  },
  {
   "cell_type": "code",
   "execution_count": 8,
   "id": "91e31927",
   "metadata": {
    "slideshow": {
     "slide_type": "fragment"
    }
   },
   "outputs": [],
   "source": [
    "df[DT] = pd.DatetimeIndex(df[DT])\n",
    "df[MONTH] = df[DT].apply(lambda date_time: date_time.strftime('%m'))\n",
    "df[HOUR] = df[DT].apply(lambda date_time: date_time.strftime('%H'))\n",
    "df[DAY] = df[DT].apply(lambda date_time: date_time.strftime('%d'))\n",
    "df[YEAR] = df[DT].apply(lambda date_time: date_time.strftime('%Y'))\n",
    "df[WEEKDAY] = df[DT].apply(lambda date_time: date_time.strftime('%w'))"
   ]
  },
  {
   "cell_type": "code",
   "execution_count": 9,
   "id": "9771eee8",
   "metadata": {
    "slideshow": {
     "slide_type": "fragment"
    }
   },
   "outputs": [
    {
     "data": {
      "text/html": [
       "<div>\n",
       "<style scoped>\n",
       "    .dataframe tbody tr th:only-of-type {\n",
       "        vertical-align: middle;\n",
       "    }\n",
       "\n",
       "    .dataframe tbody tr th {\n",
       "        vertical-align: top;\n",
       "    }\n",
       "\n",
       "    .dataframe thead th {\n",
       "        text-align: right;\n",
       "    }\n",
       "</style>\n",
       "<table border=\"1\" class=\"dataframe\">\n",
       "  <thead>\n",
       "    <tr style=\"text-align: right;\">\n",
       "      <th></th>\n",
       "      <th>latitude</th>\n",
       "      <th>longitude</th>\n",
       "      <th>description</th>\n",
       "      <th>zip</th>\n",
       "      <th>title</th>\n",
       "      <th>datetime</th>\n",
       "      <th>town</th>\n",
       "      <th>address</th>\n",
       "      <th>count</th>\n",
       "      <th>month</th>\n",
       "      <th>hour</th>\n",
       "      <th>day</th>\n",
       "      <th>year</th>\n",
       "      <th>weekday</th>\n",
       "    </tr>\n",
       "  </thead>\n",
       "  <tbody>\n",
       "    <tr>\n",
       "      <th>0</th>\n",
       "      <td>40.297876</td>\n",
       "      <td>-75.581294</td>\n",
       "      <td>REINDEER CT &amp; DEAD END;  NEW HANOVER; Station ...</td>\n",
       "      <td>19525.0</td>\n",
       "      <td>EMS: BACK PAINS/INJURY</td>\n",
       "      <td>2015-12-10 17:40:00</td>\n",
       "      <td>NEW HANOVER</td>\n",
       "      <td>REINDEER CT &amp; DEAD END</td>\n",
       "      <td>1</td>\n",
       "      <td>12</td>\n",
       "      <td>17</td>\n",
       "      <td>10</td>\n",
       "      <td>2015</td>\n",
       "      <td>4</td>\n",
       "    </tr>\n",
       "  </tbody>\n",
       "</table>\n",
       "</div>"
      ],
      "text/plain": [
       "    latitude  longitude                                        description  \\\n",
       "0  40.297876 -75.581294  REINDEER CT & DEAD END;  NEW HANOVER; Station ...   \n",
       "\n",
       "       zip                   title            datetime         town  \\\n",
       "0  19525.0  EMS: BACK PAINS/INJURY 2015-12-10 17:40:00  NEW HANOVER   \n",
       "\n",
       "                  address  count month hour day  year weekday  \n",
       "0  REINDEER CT & DEAD END      1    12   17  10  2015       4  "
      ]
     },
     "execution_count": 9,
     "metadata": {},
     "output_type": "execute_result"
    }
   ],
   "source": [
    "df.head(1)"
   ]
  },
  {
   "cell_type": "markdown",
   "id": "61c5b71e",
   "metadata": {
    "slideshow": {
     "slide_type": "slide"
    }
   },
   "source": [
    "### `title`\n",
    "A coluna `title` tem mais de uma informação importantíssima para qualquer análise deste dataset: o serviço contatado e o motivo."
   ]
  },
  {
   "cell_type": "code",
   "execution_count": 10,
   "id": "eb468f54",
   "metadata": {
    "slideshow": {
     "slide_type": "fragment"
    }
   },
   "outputs": [
    {
     "data": {
      "text/html": [
       "<div>\n",
       "<style scoped>\n",
       "    .dataframe tbody tr th:only-of-type {\n",
       "        vertical-align: middle;\n",
       "    }\n",
       "\n",
       "    .dataframe tbody tr th {\n",
       "        vertical-align: top;\n",
       "    }\n",
       "\n",
       "    .dataframe thead th {\n",
       "        text-align: right;\n",
       "    }\n",
       "</style>\n",
       "<table border=\"1\" class=\"dataframe\">\n",
       "  <thead>\n",
       "    <tr style=\"text-align: right;\">\n",
       "      <th></th>\n",
       "      <th>latitude</th>\n",
       "      <th>longitude</th>\n",
       "      <th>description</th>\n",
       "      <th>zip</th>\n",
       "      <th>title</th>\n",
       "      <th>datetime</th>\n",
       "      <th>town</th>\n",
       "      <th>address</th>\n",
       "      <th>count</th>\n",
       "      <th>month</th>\n",
       "      <th>hour</th>\n",
       "      <th>day</th>\n",
       "      <th>year</th>\n",
       "      <th>weekday</th>\n",
       "    </tr>\n",
       "  </thead>\n",
       "  <tbody>\n",
       "    <tr>\n",
       "      <th>0</th>\n",
       "      <td>40.297876</td>\n",
       "      <td>-75.581294</td>\n",
       "      <td>REINDEER CT &amp; DEAD END;  NEW HANOVER; Station ...</td>\n",
       "      <td>19525.0</td>\n",
       "      <td>EMS: BACK PAINS/INJURY</td>\n",
       "      <td>2015-12-10 17:40:00</td>\n",
       "      <td>NEW HANOVER</td>\n",
       "      <td>REINDEER CT &amp; DEAD END</td>\n",
       "      <td>1</td>\n",
       "      <td>12</td>\n",
       "      <td>17</td>\n",
       "      <td>10</td>\n",
       "      <td>2015</td>\n",
       "      <td>4</td>\n",
       "    </tr>\n",
       "  </tbody>\n",
       "</table>\n",
       "</div>"
      ],
      "text/plain": [
       "    latitude  longitude                                        description  \\\n",
       "0  40.297876 -75.581294  REINDEER CT & DEAD END;  NEW HANOVER; Station ...   \n",
       "\n",
       "       zip                   title            datetime         town  \\\n",
       "0  19525.0  EMS: BACK PAINS/INJURY 2015-12-10 17:40:00  NEW HANOVER   \n",
       "\n",
       "                  address  count month hour day  year weekday  \n",
       "0  REINDEER CT & DEAD END      1    12   17  10  2015       4  "
      ]
     },
     "execution_count": 10,
     "metadata": {},
     "output_type": "execute_result"
    }
   ],
   "source": [
    "df.head(1)"
   ]
  },
  {
   "cell_type": "code",
   "execution_count": 11,
   "id": "968c8b5e",
   "metadata": {
    "slideshow": {
     "slide_type": "subslide"
    }
   },
   "outputs": [],
   "source": [
    "def split_title(title, delimiter, idx):\n",
    "    arr = title.split(':')\n",
    "    if len(arr) <= idx:\n",
    "        return arr[0]\n",
    "    else:\n",
    "        return arr[idx]\n",
    "        \n",
    "df[SVC] = df[TITLE].apply(lambda title: split_title(title, ':', 0))\n",
    "df[RSN] = df[TITLE].apply(lambda title: split_title(title, ':', 1))\n",
    "df[RSN] = df[RSN].str.replace('-', '')"
   ]
  },
  {
   "cell_type": "markdown",
   "id": "044e8fb9",
   "metadata": {
    "slideshow": {
     "slide_type": "slide"
    }
   },
   "source": [
    "### `description`\n",
    "\n",
    "A coluna `description` apresenta mais de uma informação importante:"
   ]
  },
  {
   "cell_type": "code",
   "execution_count": 12,
   "id": "c57dd14e",
   "metadata": {
    "slideshow": {
     "slide_type": "fragment"
    }
   },
   "outputs": [
    {
     "data": {
      "text/plain": [
       "'REINDEER CT & DEAD END;  NEW HANOVER; Station 332; 2015-12-10 @ 17:10:52;'"
      ]
     },
     "execution_count": 12,
     "metadata": {},
     "output_type": "execute_result"
    }
   ],
   "source": [
    "df[DESC][0]"
   ]
  },
  {
   "cell_type": "code",
   "execution_count": 13,
   "id": "8385736d",
   "metadata": {
    "slideshow": {
     "slide_type": "fragment"
    }
   },
   "outputs": [
    {
     "data": {
      "text/plain": [
       "'CEDAR LN & WILLOW LN;  NEW HANOVER; Station 332; 2015-12-10 @ 22:22:38;'"
      ]
     },
     "execution_count": 13,
     "metadata": {},
     "output_type": "execute_result"
    }
   ],
   "source": [
    "df[DESC][100]"
   ]
  },
  {
   "cell_type": "markdown",
   "id": "01b9a4cf",
   "metadata": {
    "slideshow": {
     "slide_type": "slide"
    }
   },
   "source": [
    "Comparativo entre as informações presentes em `description` e `datetime`,  `town` e `address`:"
   ]
  },
  {
   "cell_type": "code",
   "execution_count": 14,
   "id": "10bfe0bb",
   "metadata": {
    "slideshow": {
     "slide_type": "fragment"
    }
   },
   "outputs": [],
   "source": [
    "def print_addr_desc_dt_town(idx):\n",
    "    print(f'\\nItem {idx}')\n",
    "    print(DESC + ': ', df[DESC][idx])\n",
    "    print(ADDR + ': ', df[ADDR][idx])\n",
    "    print(TWP + ': ', df[TWP][idx])\n",
    "    print(DT + ': ', df[DT][idx])"
   ]
  },
  {
   "cell_type": "code",
   "execution_count": 15,
   "id": "de5624db",
   "metadata": {
    "slideshow": {
     "slide_type": "fragment"
    }
   },
   "outputs": [
    {
     "name": "stdout",
     "output_type": "stream",
     "text": [
      "\n",
      "Item 0\n",
      "description:  REINDEER CT & DEAD END;  NEW HANOVER; Station 332; 2015-12-10 @ 17:10:52;\n",
      "address:  REINDEER CT & DEAD END\n",
      "town:  NEW HANOVER\n",
      "datetime:  2015-12-10 17:40:00\n",
      "\n",
      "Item 100\n",
      "description:  CEDAR LN & WILLOW LN;  NEW HANOVER; Station 332; 2015-12-10 @ 22:22:38;\n",
      "address:  CEDAR LN & WILLOW LN\n",
      "town:  NEW HANOVER\n",
      "datetime:  2015-12-10 22:27:02\n",
      "\n",
      "Item 200\n",
      "description:  CAMPUS DR & BUCK RD; BRYN ATHYN; 2015-12-11 @ 09:29:49-Station:STA11;\n",
      "address:  CAMPUS DR & BUCK RD\n",
      "town:  BRYN ATHYN\n",
      "datetime:  2015-12-11 09:32:01\n",
      "\n",
      "Item 350\n",
      "description:  W CHURCH RD & WASHINGTON LN; CHELTENHAM; 2015-12-11 @ 16:10:41;\n",
      "address:  W CHURCH RD & WASHINGTON LN\n",
      "town:  CHELTENHAM\n",
      "datetime:  2015-12-11 16:12:02\n"
     ]
    }
   ],
   "source": [
    "print_addr_desc_dt_town(0)\n",
    "print_addr_desc_dt_town(100)\n",
    "print_addr_desc_dt_town(200)\n",
    "print_addr_desc_dt_town(350)"
   ]
  },
  {
   "cell_type": "markdown",
   "id": "79578147",
   "metadata": {
    "slideshow": {
     "slide_type": "slide"
    }
   },
   "source": [
    "Nota-se também que existe a informação de Station na coluna `description`. Resta descobrir se está presente em todas as linhas."
   ]
  },
  {
   "cell_type": "code",
   "execution_count": 16,
   "id": "980dfab5",
   "metadata": {
    "slideshow": {
     "slide_type": "fragment"
    }
   },
   "outputs": [
    {
     "data": {
      "text/plain": [
       "True     63797\n",
       "False    35695\n",
       "Name: 2, dtype: int64"
      ]
     },
     "execution_count": 16,
     "metadata": {},
     "output_type": "execute_result"
    }
   ],
   "source": [
    "df[DESC].str.split(';', expand=True)[2].str.contains('Station').value_counts()"
   ]
  },
  {
   "cell_type": "markdown",
   "id": "78158321",
   "metadata": {
    "slideshow": {
     "slide_type": "fragment"
    }
   },
   "source": [
    "Existe um número considerável de linhas sem essa informação. É importante manter isso em mente."
   ]
  },
  {
   "cell_type": "code",
   "execution_count": 17,
   "id": "0a0bfdc3",
   "metadata": {
    "slideshow": {
     "slide_type": "fragment"
    }
   },
   "outputs": [],
   "source": [
    "df[ST] = df[DESC].str.split(';', expand=True)[2]\n",
    "df[ST] = df[ST].apply(lambda x: x if 'Station' in x else np.nan)"
   ]
  },
  {
   "cell_type": "code",
   "execution_count": 18,
   "id": "15840707",
   "metadata": {
    "slideshow": {
     "slide_type": "fragment"
    }
   },
   "outputs": [
    {
     "data": {
      "text/html": [
       "<div>\n",
       "<style scoped>\n",
       "    .dataframe tbody tr th:only-of-type {\n",
       "        vertical-align: middle;\n",
       "    }\n",
       "\n",
       "    .dataframe tbody tr th {\n",
       "        vertical-align: top;\n",
       "    }\n",
       "\n",
       "    .dataframe thead th {\n",
       "        text-align: right;\n",
       "    }\n",
       "</style>\n",
       "<table border=\"1\" class=\"dataframe\">\n",
       "  <thead>\n",
       "    <tr style=\"text-align: right;\">\n",
       "      <th></th>\n",
       "      <th>latitude</th>\n",
       "      <th>longitude</th>\n",
       "      <th>description</th>\n",
       "      <th>zip</th>\n",
       "      <th>title</th>\n",
       "      <th>datetime</th>\n",
       "      <th>town</th>\n",
       "      <th>address</th>\n",
       "      <th>count</th>\n",
       "      <th>month</th>\n",
       "      <th>hour</th>\n",
       "      <th>day</th>\n",
       "      <th>year</th>\n",
       "      <th>weekday</th>\n",
       "      <th>service</th>\n",
       "      <th>reason</th>\n",
       "      <th>station</th>\n",
       "    </tr>\n",
       "  </thead>\n",
       "  <tbody>\n",
       "    <tr>\n",
       "      <th>0</th>\n",
       "      <td>40.297876</td>\n",
       "      <td>-75.581294</td>\n",
       "      <td>REINDEER CT &amp; DEAD END;  NEW HANOVER; Station ...</td>\n",
       "      <td>19525.0</td>\n",
       "      <td>EMS: BACK PAINS/INJURY</td>\n",
       "      <td>2015-12-10 17:40:00</td>\n",
       "      <td>NEW HANOVER</td>\n",
       "      <td>REINDEER CT &amp; DEAD END</td>\n",
       "      <td>1</td>\n",
       "      <td>12</td>\n",
       "      <td>17</td>\n",
       "      <td>10</td>\n",
       "      <td>2015</td>\n",
       "      <td>4</td>\n",
       "      <td>EMS</td>\n",
       "      <td>BACK PAINS/INJURY</td>\n",
       "      <td>Station 332</td>\n",
       "    </tr>\n",
       "  </tbody>\n",
       "</table>\n",
       "</div>"
      ],
      "text/plain": [
       "    latitude  longitude                                        description  \\\n",
       "0  40.297876 -75.581294  REINDEER CT & DEAD END;  NEW HANOVER; Station ...   \n",
       "\n",
       "       zip                   title            datetime         town  \\\n",
       "0  19525.0  EMS: BACK PAINS/INJURY 2015-12-10 17:40:00  NEW HANOVER   \n",
       "\n",
       "                  address  count month hour day  year weekday service  \\\n",
       "0  REINDEER CT & DEAD END      1    12   17  10  2015       4     EMS   \n",
       "\n",
       "               reason       station  \n",
       "0   BACK PAINS/INJURY   Station 332  "
      ]
     },
     "execution_count": 18,
     "metadata": {},
     "output_type": "execute_result"
    }
   ],
   "source": [
    "df.head(1)"
   ]
  },
  {
   "cell_type": "markdown",
   "id": "8b326bed",
   "metadata": {
    "slideshow": {
     "slide_type": "slide"
    }
   },
   "source": [
    "### Preenchendo linhas com o campo `address` NaN\n",
    "É importante verificar se as linhas que tem o campo `address` com valor NaN são as mesmas que tem o endereço diferente do endereço encontrado na coluna `description`. De acordo com o slide de **Valores nulos**, a coluna `address` tinha 519 linhas nulas."
   ]
  },
  {
   "cell_type": "code",
   "execution_count": 19,
   "id": "cb9c16a3",
   "metadata": {
    "slideshow": {
     "slide_type": "fragment"
    }
   },
   "outputs": [
    {
     "data": {
      "text/plain": [
       "True     98973\n",
       "False      519\n",
       "dtype: int64"
      ]
     },
     "execution_count": 19,
     "metadata": {},
     "output_type": "execute_result"
    }
   ],
   "source": [
    "address_column_from_description = df[DESC].str.split(';', expand=True)[0].str.strip()\n",
    "(df[ADDR] == address_column_from_description).value_counts()"
   ]
  },
  {
   "cell_type": "code",
   "execution_count": 20,
   "id": "b2d00ebb",
   "metadata": {
    "slideshow": {
     "slide_type": "fragment"
    }
   },
   "outputs": [
    {
     "data": {
      "text/plain": [
       "array([ True])"
      ]
     },
     "execution_count": 20,
     "metadata": {},
     "output_type": "execute_result"
    }
   ],
   "source": [
    "matching_addresses = (df[ADDR] == address_column_from_description)\n",
    "null_addresses = df[ADDR].isnull()\n",
    "np.unique((matching_addresses[matching_addresses == False].index == null_addresses[null_addresses == True].index))"
   ]
  },
  {
   "cell_type": "code",
   "execution_count": 21,
   "id": "6a589600",
   "metadata": {
    "slideshow": {
     "slide_type": "fragment"
    }
   },
   "outputs": [],
   "source": [
    "df[ADDR] = df[DESC].str.split(';', expand=True)[0].str.strip()"
   ]
  },
  {
   "cell_type": "code",
   "execution_count": 22,
   "id": "3239b343",
   "metadata": {
    "slideshow": {
     "slide_type": "fragment"
    }
   },
   "outputs": [
    {
     "data": {
      "text/plain": [
       "latitude           0\n",
       "longitude          0\n",
       "description        0\n",
       "zip            12855\n",
       "title              0\n",
       "datetime           0\n",
       "town              43\n",
       "address            0\n",
       "count              0\n",
       "month              0\n",
       "hour               0\n",
       "day                0\n",
       "year               0\n",
       "weekday            0\n",
       "service            0\n",
       "reason             0\n",
       "station        35695\n",
       "dtype: int64"
      ]
     },
     "execution_count": 22,
     "metadata": {},
     "output_type": "execute_result"
    }
   ],
   "source": [
    "df.isnull().sum()"
   ]
  },
  {
   "cell_type": "markdown",
   "id": "f0a1716d",
   "metadata": {
    "slideshow": {
     "slide_type": "slide"
    }
   },
   "source": [
    "### Preenchendo linhas com o campo `town` NaN\n",
    "Vamos executar o mesmo raciocínio com a coluna `town`"
   ]
  },
  {
   "cell_type": "code",
   "execution_count": 23,
   "id": "1378d19e",
   "metadata": {
    "slideshow": {
     "slide_type": "fragment"
    }
   },
   "outputs": [
    {
     "data": {
      "text/plain": [
       "LOWER MERION     8443\n",
       "ABINGTON         5977\n",
       "NORRISTOWN       5890\n",
       "UPPER MERION     5227\n",
       "CHELTENHAM       4575\n",
       "                 ... \n",
       "SALFORD           163\n",
       "GREEN LANE         51\n",
       "                   43\n",
       "PHILA COUNTY       43\n",
       "LEHIGH COUNTY      30\n",
       "Name: 1, Length: 69, dtype: int64"
      ]
     },
     "execution_count": 23,
     "metadata": {},
     "output_type": "execute_result"
    }
   ],
   "source": [
    "town_column_from_description = df[DESC].str.split(';', expand=True)[1].str.strip()\n",
    "town_column_from_description.value_counts()"
   ]
  },
  {
   "cell_type": "code",
   "execution_count": 24,
   "id": "21967cf5",
   "metadata": {
    "slideshow": {
     "slide_type": "fragment"
    }
   },
   "outputs": [
    {
     "data": {
      "text/plain": [
       "True     99449\n",
       "False       43\n",
       "dtype: int64"
      ]
     },
     "execution_count": 24,
     "metadata": {},
     "output_type": "execute_result"
    }
   ],
   "source": [
    "matching_town = (df[TWP] == town_column_from_description)\n",
    "matching_town.value_counts()"
   ]
  },
  {
   "cell_type": "code",
   "execution_count": 25,
   "id": "d62284d1",
   "metadata": {
    "slideshow": {
     "slide_type": "fragment"
    }
   },
   "outputs": [
    {
     "data": {
      "text/plain": [
       "array([ True])"
      ]
     },
     "execution_count": 25,
     "metadata": {},
     "output_type": "execute_result"
    }
   ],
   "source": [
    "matching_town\n",
    "null_town = df[TWP].isnull()\n",
    "np.unique((matching_town[matching_town == False].index == null_town[null_town == True].index))"
   ]
  },
  {
   "cell_type": "code",
   "execution_count": 26,
   "id": "f803d26e",
   "metadata": {
    "slideshow": {
     "slide_type": "fragment"
    }
   },
   "outputs": [],
   "source": [
    "df[TWP] = df[DESC].str.split(';', expand=True)[1].str.strip()\n",
    "# df = df[df[TWP] != '']"
   ]
  },
  {
   "cell_type": "code",
   "execution_count": 27,
   "id": "2bba7246",
   "metadata": {
    "slideshow": {
     "slide_type": "fragment"
    }
   },
   "outputs": [
    {
     "data": {
      "text/plain": [
       "latitude           0\n",
       "longitude          0\n",
       "description        0\n",
       "zip            12855\n",
       "title              0\n",
       "datetime           0\n",
       "town               0\n",
       "address            0\n",
       "count              0\n",
       "month              0\n",
       "hour               0\n",
       "day                0\n",
       "year               0\n",
       "weekday            0\n",
       "service            0\n",
       "reason             0\n",
       "station        35695\n",
       "dtype: int64"
      ]
     },
     "execution_count": 27,
     "metadata": {},
     "output_type": "execute_result"
    }
   ],
   "source": [
    "df.isnull().sum()"
   ]
  },
  {
   "cell_type": "markdown",
   "id": "5f2a9de8",
   "metadata": {
    "slideshow": {
     "slide_type": "slide"
    }
   },
   "source": [
    "### Captalização de Letras\n",
    "\n",
    "Para seguir um padrão e ter todo o texto de uma mesma forma, as colunas de texto serão convertidas para letras minúsculas"
   ]
  },
  {
   "cell_type": "code",
   "execution_count": 28,
   "id": "6af0d723",
   "metadata": {
    "slideshow": {
     "slide_type": "fragment"
    }
   },
   "outputs": [],
   "source": [
    "df[TWP] = df[TWP].str.lower()\n",
    "df[ADDR] = df[ADDR].str.lower()\n",
    "df[WEEKDAY] = df[WEEKDAY].str.lower()\n",
    "df[SVC] = df[SVC].str.lower()\n",
    "df[ST] = df[ST].str.lower()\n",
    "df[RSN] = df[RSN].str.lower()"
   ]
  },
  {
   "cell_type": "code",
   "execution_count": 29,
   "id": "04494869",
   "metadata": {
    "slideshow": {
     "slide_type": "fragment"
    }
   },
   "outputs": [
    {
     "data": {
      "text/html": [
       "<div>\n",
       "<style scoped>\n",
       "    .dataframe tbody tr th:only-of-type {\n",
       "        vertical-align: middle;\n",
       "    }\n",
       "\n",
       "    .dataframe tbody tr th {\n",
       "        vertical-align: top;\n",
       "    }\n",
       "\n",
       "    .dataframe thead th {\n",
       "        text-align: right;\n",
       "    }\n",
       "</style>\n",
       "<table border=\"1\" class=\"dataframe\">\n",
       "  <thead>\n",
       "    <tr style=\"text-align: right;\">\n",
       "      <th></th>\n",
       "      <th>latitude</th>\n",
       "      <th>longitude</th>\n",
       "      <th>description</th>\n",
       "      <th>zip</th>\n",
       "      <th>title</th>\n",
       "      <th>datetime</th>\n",
       "      <th>town</th>\n",
       "      <th>address</th>\n",
       "      <th>count</th>\n",
       "      <th>month</th>\n",
       "      <th>hour</th>\n",
       "      <th>day</th>\n",
       "      <th>year</th>\n",
       "      <th>weekday</th>\n",
       "      <th>service</th>\n",
       "      <th>reason</th>\n",
       "      <th>station</th>\n",
       "    </tr>\n",
       "  </thead>\n",
       "  <tbody>\n",
       "    <tr>\n",
       "      <th>0</th>\n",
       "      <td>40.297876</td>\n",
       "      <td>-75.581294</td>\n",
       "      <td>REINDEER CT &amp; DEAD END;  NEW HANOVER; Station ...</td>\n",
       "      <td>19525.0</td>\n",
       "      <td>EMS: BACK PAINS/INJURY</td>\n",
       "      <td>2015-12-10 17:40:00</td>\n",
       "      <td>new hanover</td>\n",
       "      <td>reindeer ct &amp; dead end</td>\n",
       "      <td>1</td>\n",
       "      <td>12</td>\n",
       "      <td>17</td>\n",
       "      <td>10</td>\n",
       "      <td>2015</td>\n",
       "      <td>4</td>\n",
       "      <td>ems</td>\n",
       "      <td>back pains/injury</td>\n",
       "      <td>station 332</td>\n",
       "    </tr>\n",
       "  </tbody>\n",
       "</table>\n",
       "</div>"
      ],
      "text/plain": [
       "    latitude  longitude                                        description  \\\n",
       "0  40.297876 -75.581294  REINDEER CT & DEAD END;  NEW HANOVER; Station ...   \n",
       "\n",
       "       zip                   title            datetime         town  \\\n",
       "0  19525.0  EMS: BACK PAINS/INJURY 2015-12-10 17:40:00  new hanover   \n",
       "\n",
       "                  address  count month hour day  year weekday service  \\\n",
       "0  reindeer ct & dead end      1    12   17  10  2015       4     ems   \n",
       "\n",
       "               reason       station  \n",
       "0   back pains/injury   station 332  "
      ]
     },
     "execution_count": 29,
     "metadata": {},
     "output_type": "execute_result"
    }
   ],
   "source": [
    "df.head(1)"
   ]
  },
  {
   "cell_type": "markdown",
   "id": "7dc1e678",
   "metadata": {
    "slideshow": {
     "slide_type": "slide"
    }
   },
   "source": [
    "### Limpeza de dados\n",
    "Algumas colunas que não serão necessárias podem ser deletadas do DataFrame"
   ]
  },
  {
   "cell_type": "code",
   "execution_count": 30,
   "id": "aff88626",
   "metadata": {
    "slideshow": {
     "slide_type": "fragment"
    }
   },
   "outputs": [],
   "source": [
    "df = df.drop(columns=[DT, DESC, TITLE])"
   ]
  },
  {
   "cell_type": "code",
   "execution_count": 31,
   "id": "a46f1b08",
   "metadata": {},
   "outputs": [
    {
     "data": {
      "text/html": [
       "<div>\n",
       "<style scoped>\n",
       "    .dataframe tbody tr th:only-of-type {\n",
       "        vertical-align: middle;\n",
       "    }\n",
       "\n",
       "    .dataframe tbody tr th {\n",
       "        vertical-align: top;\n",
       "    }\n",
       "\n",
       "    .dataframe thead th {\n",
       "        text-align: right;\n",
       "    }\n",
       "</style>\n",
       "<table border=\"1\" class=\"dataframe\">\n",
       "  <thead>\n",
       "    <tr style=\"text-align: right;\">\n",
       "      <th></th>\n",
       "      <th>latitude</th>\n",
       "      <th>longitude</th>\n",
       "      <th>zip</th>\n",
       "      <th>town</th>\n",
       "      <th>address</th>\n",
       "      <th>count</th>\n",
       "      <th>month</th>\n",
       "      <th>hour</th>\n",
       "      <th>day</th>\n",
       "      <th>year</th>\n",
       "      <th>weekday</th>\n",
       "      <th>service</th>\n",
       "      <th>reason</th>\n",
       "      <th>station</th>\n",
       "    </tr>\n",
       "  </thead>\n",
       "  <tbody>\n",
       "    <tr>\n",
       "      <th>0</th>\n",
       "      <td>40.297876</td>\n",
       "      <td>-75.581294</td>\n",
       "      <td>19525.0</td>\n",
       "      <td>new hanover</td>\n",
       "      <td>reindeer ct &amp; dead end</td>\n",
       "      <td>1</td>\n",
       "      <td>12</td>\n",
       "      <td>17</td>\n",
       "      <td>10</td>\n",
       "      <td>2015</td>\n",
       "      <td>4</td>\n",
       "      <td>ems</td>\n",
       "      <td>back pains/injury</td>\n",
       "      <td>station 332</td>\n",
       "    </tr>\n",
       "  </tbody>\n",
       "</table>\n",
       "</div>"
      ],
      "text/plain": [
       "    latitude  longitude      zip         town                 address  count  \\\n",
       "0  40.297876 -75.581294  19525.0  new hanover  reindeer ct & dead end      1   \n",
       "\n",
       "  month hour day  year weekday service              reason       station  \n",
       "0    12   17  10  2015       4     ems   back pains/injury   station 332  "
      ]
     },
     "execution_count": 31,
     "metadata": {},
     "output_type": "execute_result"
    }
   ],
   "source": [
    "df.head(1)"
   ]
  },
  {
   "cell_type": "markdown",
   "id": "617d0842",
   "metadata": {
    "slideshow": {
     "slide_type": "slide"
    }
   },
   "source": [
    "## Classificação das Variáveis:\n",
    "\n",
    "### Quantitativas Contínuas: \n",
    "- latitude \n",
    "- longitude\n",
    "\n",
    "### Qualitativas Nominais\n",
    "- zip\n",
    "- town\n",
    "- address\n",
    "- service\n",
    "- reason\n",
    "- station\n",
    "\n",
    "### Qualitativas Ordinais\n",
    "- day\n",
    "- weekday\n",
    "- month\n",
    "- hour\n",
    "- year"
   ]
  },
  {
   "cell_type": "markdown",
   "id": "6edbbbab",
   "metadata": {
    "slideshow": {
     "slide_type": "slide"
    }
   },
   "source": [
    "## Análises"
   ]
  },
  {
   "cell_type": "markdown",
   "id": "97d13a59",
   "metadata": {
    "slideshow": {
     "slide_type": "slide"
    }
   },
   "source": [
    "## Análise Temporal"
   ]
  },
  {
   "cell_type": "markdown",
   "id": "15e3b289",
   "metadata": {
    "slideshow": {
     "slide_type": "slide"
    }
   },
   "source": [
    "### Ligações agrupadas por ano\n",
    "\n",
    "Vale ressaltar que o primeiro registro é do dia 10 de Dezembro de 2015."
   ]
  },
  {
   "cell_type": "code",
   "execution_count": 32,
   "id": "15473de1",
   "metadata": {
    "slideshow": {
     "slide_type": "fragment"
    }
   },
   "outputs": [
    {
     "data": {
      "text/plain": [
       "<AxesSubplot:title={'center':'Ano X Numero de chamados'}, xlabel='year'>"
      ]
     },
     "execution_count": 32,
     "metadata": {},
     "output_type": "execute_result"
    },
    {
     "data": {
      "image/png": "[encoded data removed]",
      "text/plain": [
       "<Figure size 720x360 with 1 Axes>"
      ]
     },
     "metadata": {
      "needs_background": "light"
     },
     "output_type": "display_data"
    }
   ],
   "source": [
    "df.groupby(YEAR).agg({CNT: sum}).plot.bar(title='Ano X Numero de chamados', figsize=(10, 5))"
   ]
  },
  {
   "cell_type": "markdown",
   "id": "cf528fcf",
   "metadata": {
    "slideshow": {
     "slide_type": "slide"
    }
   },
   "source": [
    "### Ligações agrupadas por mês"
   ]
  },
  {
   "cell_type": "code",
   "execution_count": 33,
   "id": "56676a11",
   "metadata": {
    "slideshow": {
     "slide_type": "fragment"
    }
   },
   "outputs": [
    {
     "data": {
      "text/plain": [
       "<AxesSubplot:title={'center':'Mês X Numero de chamados'}, xlabel='month'>"
      ]
     },
     "execution_count": 33,
     "metadata": {},
     "output_type": "execute_result"
    },
    {
     "data": {
      "image/png": "[encoded data removed]",
      "text/plain": [
       "<Figure size 1440x720 with 1 Axes>"
      ]
     },
     "metadata": {
      "needs_background": "light"
     },
     "output_type": "display_data"
    }
   ],
   "source": [
    "df.groupby(MONTH).agg({CNT: sum}).plot.bar(title='Mês X Numero de chamados', figsize=(20, 10))"
   ]
  },
  {
   "cell_type": "markdown",
   "id": "ef56e682",
   "metadata": {
    "slideshow": {
     "slide_type": "slide"
    }
   },
   "source": [
    "### Ligações agrupadas por dia da semana"
   ]
  },
  {
   "cell_type": "code",
   "execution_count": 34,
   "id": "62a17d54",
   "metadata": {
    "slideshow": {
     "slide_type": "fragment"
    }
   },
   "outputs": [],
   "source": [
    "WEEKEND = 'weekend'\n",
    "df[WEEKEND] = df[WEEKDAY].apply(lambda x: True if x == '5' or x == '6' else False)"
   ]
  },
  {
   "cell_type": "code",
   "execution_count": 35,
   "id": "4e44dccd",
   "metadata": {
    "slideshow": {
     "slide_type": "fragment"
    }
   },
   "outputs": [
    {
     "data": {
      "text/plain": [
       "<AxesSubplot:title={'center':'Fim de semana X Numero de chamados'}, xlabel='weekend'>"
      ]
     },
     "execution_count": 35,
     "metadata": {},
     "output_type": "execute_result"
    },
    {
     "data": {
      "image/png": "[encoded data removed]",
      "text/plain": [
       "<Figure size 1440x720 with 1 Axes>"
      ]
     },
     "metadata": {
      "needs_background": "light"
     },
     "output_type": "display_data"
    },
    {
     "data": {
      "image/png": "[encoded data removed]",
      "text/plain": [
       "<Figure size 1440x720 with 1 Axes>"
      ]
     },
     "metadata": {
      "needs_background": "light"
     },
     "output_type": "display_data"
    }
   ],
   "source": [
    "df.groupby(WEEKDAY).agg({CNT: sum}).plot.bar(title='Dia da semana X Numero de chamados', figsize=(20, 10))\n",
    "df.groupby(WEEKEND).agg({CNT: sum}).plot.bar(title='Fim de semana X Numero de chamados', figsize=(20, 10))"
   ]
  },
  {
   "cell_type": "markdown",
   "id": "65b30f8e",
   "metadata": {
    "slideshow": {
     "slide_type": "slide"
    }
   },
   "source": [
    "### Ligações agrupadas por dia"
   ]
  },
  {
   "cell_type": "code",
   "execution_count": 36,
   "id": "75ea398b",
   "metadata": {
    "slideshow": {
     "slide_type": "fragment"
    }
   },
   "outputs": [
    {
     "data": {
      "text/plain": [
       "<AxesSubplot:title={'center':'Dia X Numero de chamados'}, xlabel='day'>"
      ]
     },
     "execution_count": 36,
     "metadata": {},
     "output_type": "execute_result"
    },
    {
     "data": {
      "image/png": "[encoded data removed]",
      "text/plain": [
       "<Figure size 1440x720 with 1 Axes>"
      ]
     },
     "metadata": {
      "needs_background": "light"
     },
     "output_type": "display_data"
    }
   ],
   "source": [
    "df.groupby(DAY).agg({CNT: sum}).plot.bar(title='Dia X Numero de chamados', figsize=(20, 10))"
   ]
  },
  {
   "cell_type": "markdown",
   "id": "38b03586",
   "metadata": {
    "slideshow": {
     "slide_type": "slide"
    }
   },
   "source": [
    "### Ligações agrupadas por hora"
   ]
  },
  {
   "cell_type": "code",
   "execution_count": 46,
   "id": "d8ab8fa1",
   "metadata": {},
   "outputs": [],
   "source": [
    "P = 'period'\n",
    "# df[P] = df[HOUR].apply(lambda x: '00-11' if x > '00' and x < '12' else '12-18' if x > '12' and x < '18' else '19-23')\n",
    "df[P] = df[HOUR].apply(lambda x: '00:00-06:00' if x > '00' and x < '06' else '06:00-12:00' if x > '05' and x < '12' else '12:00-18:00' if x > '11' and x < '18' else '18:00-00:00')"
   ]
  },
  {
   "cell_type": "code",
   "execution_count": 47,
   "id": "822c8d19",
   "metadata": {
    "slideshow": {
     "slide_type": "fragment"
    }
   },
   "outputs": [
    {
     "data": {
      "text/plain": [
       "<AxesSubplot:title={'center':'Período X Número de chamados'}, xlabel='period'>"
      ]
     },
     "execution_count": 47,
     "metadata": {},
     "output_type": "execute_result"
    },
    {
     "data": {
      "image/png": "[encoded data removed]",
      "text/plain": [
       "<Figure size 1440x720 with 1 Axes>"
      ]
     },
     "metadata": {
      "needs_background": "light"
     },
     "output_type": "display_data"
    },
    {
     "data": {
      "image/png": "[encoded data removed]",
      "text/plain": [
       "<Figure size 720x360 with 1 Axes>"
      ]
     },
     "metadata": {
      "needs_background": "light"
     },
     "output_type": "display_data"
    }
   ],
   "source": [
    "df.groupby(HOUR).agg({CNT: sum}).plot.bar(title='Hora X Numero de chamados', figsize=(20, 10))\n",
    "df.groupby(P).agg({CNT: sum}).plot.bar(title='Período X Número de chamados', figsize=(10, 5))"
   ]
  },
  {
   "cell_type": "markdown",
   "id": "b152102c",
   "metadata": {},
   "source": [
    "### Ligações agrupadas por causa"
   ]
  },
  {
   "cell_type": "code",
   "execution_count": 39,
   "id": "ab0a9e22",
   "metadata": {
    "slideshow": {
     "slide_type": "fragment"
    }
   },
   "outputs": [
    {
     "data": {
      "text/plain": [
       "<AxesSubplot:title={'center':'10 Maiores causas X Número de ligações'}>"
      ]
     },
     "execution_count": 39,
     "metadata": {},
     "output_type": "execute_result"
    },
    {
     "data": {
      "image/png": "[encoded data removed]",
      "text/plain": [
       "<Figure size 1440x720 with 1 Axes>"
      ]
     },
     "metadata": {
      "needs_background": "light"
     },
     "output_type": "display_data"
    }
   ],
   "source": [
    "df[RSN].value_counts().head(10).plot.bar(title='10 Maiores causas X Número de ligações', figsize=(20, 10))"
   ]
  },
  {
   "cell_type": "markdown",
   "id": "98269d5c",
   "metadata": {
    "slideshow": {
     "slide_type": "slide"
    }
   },
   "source": [
    "### Ligações agrupadas por Serviço"
   ]
  },
  {
   "cell_type": "code",
   "execution_count": 40,
   "id": "04e46378",
   "metadata": {
    "slideshow": {
     "slide_type": "fragment"
    }
   },
   "outputs": [
    {
     "data": {
      "text/plain": [
       "<AxesSubplot:title={'center':'Serviço X Número de ligações'}, xlabel='service'>"
      ]
     },
     "execution_count": 40,
     "metadata": {},
     "output_type": "execute_result"
    },
    {
     "data": {
      "image/png": "[encoded data removed]",
      "text/plain": [
       "<Figure size 720x360 with 1 Axes>"
      ]
     },
     "metadata": {
      "needs_background": "light"
     },
     "output_type": "display_data"
    }
   ],
   "source": [
    "df.groupby(SVC).count()[CNT].plot.bar(title='Serviço X Número de ligações', figsize=(10, 5))"
   ]
  },
  {
   "cell_type": "markdown",
   "id": "8259da52",
   "metadata": {
    "slideshow": {
     "slide_type": "slide"
    }
   },
   "source": [
    "### Ligações agrupadas por cidade"
   ]
  },
  {
   "cell_type": "code",
   "execution_count": 41,
   "id": "1db128da",
   "metadata": {
    "slideshow": {
     "slide_type": "fragment"
    }
   },
   "outputs": [
    {
     "data": {
      "text/plain": [
       "<AxesSubplot:>"
      ]
     },
     "execution_count": 41,
     "metadata": {},
     "output_type": "execute_result"
    },
    {
     "data": {
      "image/png": "[encoded data removed]",
      "text/plain": [
       "<Figure size 1440x720 with 1 Axes>"
      ]
     },
     "metadata": {
      "needs_background": "light"
     },
     "output_type": "display_data"
    },
    {
     "data": {
      "image/png": "[encoded data removed]",
      "text/plain": [
       "<Figure size 1440x720 with 1 Axes>"
      ]
     },
     "metadata": {
      "needs_background": "light"
     },
     "output_type": "display_data"
    }
   ],
   "source": [
    "calls_by_city = df.groupby(TWP).agg({CNT: sum}).reset_index()\n",
    "calls_by_city.plot.scatter(x=TWP, y=CNT, figsize=(20, 10))\n",
    "calls_by_city.plot.bar(figsize=(20, 10))"
   ]
  }
 ],
 "metadata": {
  "celltoolbar": "Slideshow",
  "kernelspec": {
   "display_name": "Python 3",
   "language": "python",
   "name": "python3"
  },
  "language_info": {
   "codemirror_mode": {
    "name": "ipython",
    "version": 3
   },
   "file_extension": ".py",
   "mimetype": "text/x-python",
   "name": "python",
   "nbconvert_exporter": "python",
   "pygments_lexer": "ipython3",
   "version": "3.7.10"
  }
 },
 "nbformat": 4,
 "nbformat_minor": 5
}
